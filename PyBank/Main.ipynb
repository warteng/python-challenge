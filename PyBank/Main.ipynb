{
 "cells": [
  {
   "cell_type": "code",
   "execution_count": 275,
   "metadata": {},
   "outputs": [],
   "source": [
    "import pandas as pd\n",
    "import numpy as np\n"
   ]
  },
  {
   "cell_type": "code",
   "execution_count": 276,
   "metadata": {},
   "outputs": [
    {
     "data": {
      "text/html": [
       "<div>\n",
       "<style scoped>\n",
       "    .dataframe tbody tr th:only-of-type {\n",
       "        vertical-align: middle;\n",
       "    }\n",
       "\n",
       "    .dataframe tbody tr th {\n",
       "        vertical-align: top;\n",
       "    }\n",
       "\n",
       "    .dataframe thead th {\n",
       "        text-align: right;\n",
       "    }\n",
       "</style>\n",
       "<table border=\"1\" class=\"dataframe\">\n",
       "  <thead>\n",
       "    <tr style=\"text-align: right;\">\n",
       "      <th></th>\n",
       "      <th>Date</th>\n",
       "      <th>Profit/Losses</th>\n",
       "    </tr>\n",
       "  </thead>\n",
       "  <tbody>\n",
       "    <tr>\n",
       "      <th>0</th>\n",
       "      <td>Jan-2010</td>\n",
       "      <td>867884</td>\n",
       "    </tr>\n",
       "    <tr>\n",
       "      <th>1</th>\n",
       "      <td>Feb-2010</td>\n",
       "      <td>984655</td>\n",
       "    </tr>\n",
       "    <tr>\n",
       "      <th>2</th>\n",
       "      <td>Mar-2010</td>\n",
       "      <td>322013</td>\n",
       "    </tr>\n",
       "    <tr>\n",
       "      <th>3</th>\n",
       "      <td>Apr-2010</td>\n",
       "      <td>-69417</td>\n",
       "    </tr>\n",
       "    <tr>\n",
       "      <th>4</th>\n",
       "      <td>May-2010</td>\n",
       "      <td>310503</td>\n",
       "    </tr>\n",
       "  </tbody>\n",
       "</table>\n",
       "</div>"
      ],
      "text/plain": [
       "       Date  Profit/Losses\n",
       "0  Jan-2010         867884\n",
       "1  Feb-2010         984655\n",
       "2  Mar-2010         322013\n",
       "3  Apr-2010         -69417\n",
       "4  May-2010         310503"
      ]
     },
     "execution_count": 276,
     "metadata": {},
     "output_type": "execute_result"
    }
   ],
   "source": [
    "csv_path = \"/Users/ebk/class/COLNYC20190716DATA/python-challenge/PyBank/budget_data.csv\"\n",
    "\n",
    "budget_df = pd.read_csv(csv_path)\n",
    "\n",
    "budget_df.head()\n"
   ]
  },
  {
   "cell_type": "code",
   "execution_count": 277,
   "metadata": {},
   "outputs": [
    {
     "name": "stdout",
     "output_type": "stream",
     "text": [
      "Total_Months = 86\n"
     ]
    }
   ],
   "source": [
    "#The total number of months included in the dataset\n",
    "\n",
    "Total_Months = budget_df[\"Date\"].count() \n",
    "Total_Months\n",
    "print(\"Total_Months =\",Total_Months)\n"
   ]
  },
  {
   "cell_type": "code",
   "execution_count": 278,
   "metadata": {},
   "outputs": [
    {
     "name": "stdout",
     "output_type": "stream",
     "text": [
      "Total = 38382578\n"
     ]
    }
   ],
   "source": [
    "#The net total amount of \"Profit/Losses\" over the entire period\n",
    "\n",
    "Total = budget_df[\"Profit/Losses\"].sum()\n",
    "print(\"Total =\",Total)\n"
   ]
  },
  {
   "cell_type": "code",
   "execution_count": 279,
   "metadata": {},
   "outputs": [
    {
     "name": "stdout",
     "output_type": "stream",
     "text": [
      "Average_change = -2315.12\n"
     ]
    }
   ],
   "source": [
    "#The average of the changes in \"Profit/Losses\" over the entire period\n",
    "\n",
    "budget_df[\"Profit/Losses1\"] = budget_df[\"Profit/Losses\"].shift(1)\n",
    "budget_df['difference'] = budget_df['Profit/Losses'] - budget_df['Profit/Losses1']\n",
    "Average_change = budget_df['difference'].mean()\n",
    "print(\"Average_change =\",np.round(Average_change,2))\n",
    "\n"
   ]
  },
  {
   "cell_type": "code",
   "execution_count": 280,
   "metadata": {},
   "outputs": [
    {
     "name": "stdout",
     "output_type": "stream",
     "text": [
      "1926159.0\n",
      "-2196167.0\n",
      "Feb-2012\n",
      "Sep-2013\n"
     ]
    }
   ],
   "source": [
    "#creating variables for greatest iincrease/decrease in profits with corresponding dates\n",
    "\n",
    "Greatest_Increase = budget_df['difference'].max()\n",
    "print(Greatest_Increase)\n",
    "Greatest_Decrease = budget_df['difference'].min()\n",
    "print(Greatest_Decrease)\n",
    "budget2_df = budget_df[['difference', 'Date']].copy()\n",
    "new_df = budget2_df.set_index(\"difference\")\n",
    "GreatestIncrease_Date=new_df.loc[1926159.0,\"Date\"]\n",
    "print(GreatestIncrease_Date)\n",
    "GreatestDecrease_Date=new_df.loc[-2196167.0,\"Date\"]\n",
    "print(GreatestDecrease_Date)\n",
    "\n"
   ]
  },
  {
   "cell_type": "code",
   "execution_count": 281,
   "metadata": {},
   "outputs": [
    {
     "name": "stdout",
     "output_type": "stream",
     "text": [
      "Greatest Increase in profits = Feb-2012 ( 1926159.0 )\n"
     ]
    }
   ],
   "source": [
    "#The greatest increase in profits (date and amount) over the entire period\n",
    "\n",
    "print('Greatest Increase in profits =',GreatestIncrease_Date,'(',Greatest_Increase,')')\n"
   ]
  },
  {
   "cell_type": "code",
   "execution_count": 282,
   "metadata": {},
   "outputs": [
    {
     "name": "stdout",
     "output_type": "stream",
     "text": [
      "Greatest decrease in profits = Sep-2013 ( -2196167.0 )\n"
     ]
    }
   ],
   "source": [
    "#The greatest decrease in losses (date and amount) over the entire period\n",
    "\n",
    "\n",
    "print('Greatest decrease in profits =',GreatestDecrease_Date,'(',Greatest_Decrease,')')\n"
   ]
  },
  {
   "cell_type": "code",
   "execution_count": 291,
   "metadata": {},
   "outputs": [],
   "source": [
    "import sys\n",
    "f = open('Output.txt', 'w')\n",
    "sys.stdout=f\n",
    "print('Financial Analysis')\n",
    "print('-----------------------------------')\n",
    "print(\"Total_Months =\",Total_Months)\n",
    "print(\"Total =\",'$',Total)\n",
    "print(\"Average_change =\",'$',np.round(Average_change,2))\n",
    "print('Greatest Increase in profits =',GreatestIncrease_Date,'(','$',Greatest_Increase,')')\n",
    "print('Greatest decrease in profits =',GreatestDecrease_Date,'(','$',Greatest_Decrease,')')\n"
   ]
  },
  {
   "cell_type": "code",
   "execution_count": null,
   "metadata": {},
   "outputs": [],
   "source": []
  }
 ],
 "metadata": {
  "kernelspec": {
   "display_name": "Python 3",
   "language": "python",
   "name": "python3"
  },
  "language_info": {
   "codemirror_mode": {
    "name": "ipython",
    "version": 3
   },
   "file_extension": ".py",
   "mimetype": "text/x-python",
   "name": "python",
   "nbconvert_exporter": "python",
   "pygments_lexer": "ipython3",
   "version": "3.7.3"
  }
 },
 "nbformat": 4,
 "nbformat_minor": 2
}
